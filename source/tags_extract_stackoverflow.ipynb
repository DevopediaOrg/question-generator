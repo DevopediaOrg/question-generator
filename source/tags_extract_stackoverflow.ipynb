{
 "cells": [
  {
   "cell_type": "code",
   "execution_count": 90,
   "metadata": {},
   "outputs": [],
   "source": [
    "from stackapi import StackAPI\n",
    "import math"
   ]
  },
  {
   "cell_type": "markdown",
   "metadata": {},
   "source": [
    "# Plan-- \n",
    "1. giving related tags from a input tag of user and give him options to view relevant tags \n",
    "2. user selects the relevant tag, and selects the level(beginener, intermediate and advanced) and gets a set of questions related of ranking of user\n",
    "\n"
   ]
  },
  {
   "cell_type": "code",
   "execution_count": 27,
   "metadata": {},
   "outputs": [],
   "source": [
    "tags=SITE.fetch('tags', inname='data-science')"
   ]
  },
  {
   "cell_type": "code",
   "execution_count": 29,
   "metadata": {},
   "outputs": [
    {
     "data": {
      "text/plain": [
       "dict_keys(['backoff', 'has_more', 'page', 'quota_max', 'quota_remaining', 'total', 'items'])"
      ]
     },
     "execution_count": 29,
     "metadata": {},
     "output_type": "execute_result"
    }
   ],
   "source": [
    "tags.keys()"
   ]
  },
  {
   "cell_type": "code",
   "execution_count": 57,
   "metadata": {},
   "outputs": [],
   "source": [
    "# function to extract the releavnt tags\n",
    "\n",
    "import operator\n",
    "from itertools import islice\n",
    "def function_extract_relevant_tags(list):\n",
    "    tags_list={}\n",
    "    for i in range(len(list)):\n",
    "        tags=SITE.fetch('tags', inname=[i])\n",
    "        tags_dict={}\n",
    "        for j in range(len(tags[\"items\"])):\n",
    "            tags_dict[tags[\"items\"][j][\"count\"]]=tags[\"items\"][i][\"name\"]\n",
    "            sorted_tags = sorted(tags_dict.items(), key=operator.itemgetter(1))\n",
    "        if(len(views_count)<10):\n",
    "            tags_list[list[i]]=list(tags_dict.values())\n",
    "        else:\n",
    "            tags_list[list[i]]=list(tags_dict.values()[:10])\n",
    "        "
   ]
  }
 ],
 "metadata": {
  "kernelspec": {
   "display_name": "Python 3",
   "language": "python",
   "name": "python3"
  },
  "language_info": {
   "codemirror_mode": {
    "name": "ipython",
    "version": 3
   },
   "file_extension": ".py",
   "mimetype": "text/x-python",
   "name": "python",
   "nbconvert_exporter": "python",
   "pygments_lexer": "ipython3",
   "version": "3.7.3"
  }
 },
 "nbformat": 4,
 "nbformat_minor": 2
}
